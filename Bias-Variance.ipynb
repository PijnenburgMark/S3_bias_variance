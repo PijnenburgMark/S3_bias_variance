{
 "cells": [
  {
   "cell_type": "markdown",
   "id": "433c4533-41d0-4333-a022-a41d4ac092b6",
   "metadata": {},
   "source": [
    "# Bias - Variance Trade-off "
   ]
  },
  {
   "cell_type": "code",
   "execution_count": null,
   "id": "0bed770c-ef49-4716-a1fd-fe572e999917",
   "metadata": {},
   "outputs": [],
   "source": []
  }
 ],
 "metadata": {
  "kernelspec": {
   "display_name": "Python 3 (ipykernel)",
   "language": "python",
   "name": "python3"
  },
  "language_info": {
   "codemirror_mode": {
    "name": "ipython",
    "version": 3
   },
   "file_extension": ".py",
   "mimetype": "text/x-python",
   "name": "python",
   "nbconvert_exporter": "python",
   "pygments_lexer": "ipython3",
   "version": "3.11.6"
  }
 },
 "nbformat": 4,
 "nbformat_minor": 5
}
